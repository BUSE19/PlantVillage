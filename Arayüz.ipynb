{
 "cells": [
  {
   "cell_type": "code",
   "execution_count": 1,
   "id": "e9a6a363-9a99-4468-904c-4b3b897e88a6",
   "metadata": {},
   "outputs": [
    {
     "name": "stderr",
     "output_type": "stream",
     "text": [
      "C:\\Users\\busez\\anaconda33\\Lib\\site-packages\\keras\\src\\layers\\convolutional\\base_conv.py:99: UserWarning: Do not pass an `input_shape`/`input_dim` argument to a layer. When using Sequential models, prefer using an `Input(shape)` object as the first layer in the model instead.\n",
      "  super().__init__(\n",
      "WARNING:absl:Compiled the loaded model, but the compiled metrics have yet to be built. `model.compile_metrics` will be empty until you train or evaluate the model.\n",
      "WARNING:absl:Error in loading the saved optimizer state. As a result, your model is starting with a freshly initialized optimizer.\n"
     ]
    },
    {
     "name": "stdout",
     "output_type": "stream",
     "text": [
      "\u001b[1m1/1\u001b[0m \u001b[32m━━━━━━━━━━━━━━━━━━━━\u001b[0m\u001b[37m\u001b[0m \u001b[1m0s\u001b[0m 240ms/step\n"
     ]
    }
   ],
   "source": [
    "import tkinter as tk\n",
    "from tkinter import filedialog\n",
    "from PIL import Image, ImageTk\n",
    "import numpy as np\n",
    "import tensorflow as tf\n",
    "\n",
    "# Modeli yükle\n",
    "model = tf.keras.models.load_model(r\"C:\\Users\\busez\\AraştırmaProjesi2\\plant_disease_prediction_model.h5\")\n",
    "\n",
    "# Sınıf isimleri ve ilişkilendirildiği sağlık durumu\n",
    "class_names = {\n",
    "    0: \"Hasta\",\n",
    "    1: \"Sağlıklı\"\n",
    "}\n",
    "\n",
    "# Resmi sınıflandırma fonksiyonu\n",
    "def classify_image(image_path):\n",
    "    image = Image.open(image_path)\n",
    "    image = image.resize((224, 224))  # Modelin beklediği boyuta dönüştür\n",
    "    image = np.array(image) / 255.0  # Resmi normalize et\n",
    "    image = np.expand_dims(image, axis=0)  # Batch boyutunu ekleyin\n",
    "    prediction = model.predict(image)  # Tahmini yap\n",
    "    # Tahmin sonucunu döndür\n",
    "    return prediction\n",
    "\n",
    "# Tkinter arayüzünü oluştur\n",
    "root = tk.Tk()\n",
    "root.title(\"Bitki Hastalığı Tespit Arayüzü\")\n",
    "\n",
    "# Seçilen resmin dosya yolu\n",
    "selected_image_path = None\n",
    "\n",
    "# Resmi seçme fonksiyonu\n",
    "def select_image():\n",
    "    global selected_image_path\n",
    "    selected_image_path = filedialog.askopenfilename()\n",
    "    image = Image.open(selected_image_path)\n",
    "    image = image.resize((300, 300))\n",
    "    photo = ImageTk.PhotoImage(image)\n",
    "    label.config(image=photo)\n",
    "    label.image = photo\n",
    "\n",
    "# Tahmin yap butonu fonksiyonu\n",
    "def predict_image():\n",
    "    if selected_image_path:\n",
    "        prediction = classify_image(selected_image_path)\n",
    "        # Tahmin sonucunu yorumla\n",
    "        prediction_label = \"Sağlıklı\" if np.argmax(prediction) == 1 else \"Hasta\"\n",
    "        result_label.config(text=f\"Tahmin: {prediction_label}\")\n",
    "    else:\n",
    "        result_label.config(text=\"Lütfen önce bir resim seçin.\")\n",
    "\n",
    "# Resim seçme butonu\n",
    "select_button = tk.Button(root, text=\"Resim Seç\", command=select_image)\n",
    "select_button.pack()\n",
    "\n",
    "# Tahmin yap butonu\n",
    "predict_button = tk.Button(root, text=\"Tahmin Yap\", command=predict_image)\n",
    "predict_button.pack()\n",
    "\n",
    "# Resim gösterme alanı\n",
    "label = tk.Label(root)\n",
    "label.pack()\n",
    "\n",
    "# Tahmin sonucunu gösterme alanı\n",
    "result_label = tk.Label(root)\n",
    "result_label.pack()\n",
    "\n",
    "# Tkinter arayüzünü başlat\n",
    "root.mainloop()\n"
   ]
  }
 ],
 "metadata": {
  "kernelspec": {
   "display_name": "Python 3 (ipykernel)",
   "language": "python",
   "name": "python3"
  },
  "language_info": {
   "codemirror_mode": {
    "name": "ipython",
    "version": 3
   },
   "file_extension": ".py",
   "mimetype": "text/x-python",
   "name": "python",
   "nbconvert_exporter": "python",
   "pygments_lexer": "ipython3",
   "version": "3.11.7"
  }
 },
 "nbformat": 4,
 "nbformat_minor": 5
}
